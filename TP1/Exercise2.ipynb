{
 "cells": [
  {
   "cell_type": "markdown",
   "id": "b45d8e3a",
   "metadata": {},
   "source": [
    "# This Notebook corresponds to the second exersice at the first TP."
   ]
  },
  {
   "cell_type": "markdown",
   "id": "c20b9e71",
   "metadata": {},
   "source": [
    "Exercise: Data Cleaning and Preparation"
   ]
  },
  {
   "cell_type": "markdown",
   "id": "8217a440",
   "metadata": {},
   "source": [
    "Objective: Handling missing and inconsistent data"
   ]
  },
  {
   "cell_type": "markdown",
   "id": "8590dc05",
   "metadata": {},
   "source": [
    "Task:\n",
    "Donwload [Iris dataset](https://www.kaggle.com/datasets/bharathkumarkathula/iris-with-missing-data) and put it  inside dataset folder in your project folder."
   ]
  },
  {
   "cell_type": "markdown",
   "id": "6db02a28",
   "metadata": {},
   "source": [
    "##### Library importation:"
   ]
  },
  {
   "cell_type": "code",
   "execution_count": 48,
   "id": "f1986244",
   "metadata": {},
   "outputs": [],
   "source": [
    "import pandas as pd\n",
    "import numpy as np\n",
    "import matplotlib.pyplot as plt\n",
    "import seaborn as sns\n"
   ]
  },
  {
   "cell_type": "markdown",
   "id": "d5c8ada1",
   "metadata": {},
   "source": [
    "##### Loading dataset:"
   ]
  },
  {
   "cell_type": "code",
   "execution_count": 49,
   "id": "f1d5f592",
   "metadata": {},
   "outputs": [],
   "source": [
    "dataset= \"./../dataset/Iris_missingdata.csv\"\n",
    "data = pd.read_csv(dataset)"
   ]
  },
  {
   "cell_type": "markdown",
   "id": "ad1fd4c5",
   "metadata": {},
   "source": [
    "##### Display columns:"
   ]
  },
  {
   "cell_type": "code",
   "execution_count": 50,
   "id": "1ad03eb4",
   "metadata": {},
   "outputs": [
    {
     "name": "stdout",
     "output_type": "stream",
     "text": [
      "<class 'pandas.core.frame.DataFrame'>\n",
      "RangeIndex: 150 entries, 0 to 149\n",
      "Data columns (total 6 columns):\n",
      " #   Column         Non-Null Count  Dtype  \n",
      "---  ------         --------------  -----  \n",
      " 0   Id             150 non-null    int64  \n",
      " 1   SepalLengthCm  139 non-null    float64\n",
      " 2   SepalWidthCm   143 non-null    float64\n",
      " 3   PetalLengthCm  142 non-null    float64\n",
      " 4   PetalWidthCm   141 non-null    float64\n",
      " 5   Species        150 non-null    object \n",
      "dtypes: float64(4), int64(1), object(1)\n",
      "memory usage: 7.2+ KB\n"
     ]
    }
   ],
   "source": [
    "data.info()"
   ]
  },
  {
   "cell_type": "markdown",
   "id": "a13f77c1",
   "metadata": {},
   "source": [
    "##### Display head dataset:"
   ]
  },
  {
   "cell_type": "code",
   "execution_count": 51,
   "id": "f28a3458",
   "metadata": {},
   "outputs": [
    {
     "data": {
      "application/vnd.microsoft.datawrangler.viewer.v0+json": {
       "columns": [
        {
         "name": "index",
         "rawType": "int64",
         "type": "integer"
        },
        {
         "name": "Id",
         "rawType": "int64",
         "type": "integer"
        },
        {
         "name": "SepalLengthCm",
         "rawType": "float64",
         "type": "float"
        },
        {
         "name": "SepalWidthCm",
         "rawType": "float64",
         "type": "float"
        },
        {
         "name": "PetalLengthCm",
         "rawType": "float64",
         "type": "float"
        },
        {
         "name": "PetalWidthCm",
         "rawType": "float64",
         "type": "float"
        },
        {
         "name": "Species",
         "rawType": "object",
         "type": "string"
        }
       ],
       "ref": "906081a4-222d-4382-bc5d-15d3cd9109a2",
       "rows": [
        [
         "0",
         "1",
         "5.1",
         "3.5",
         "1.4",
         "0.2",
         "Iris-setosa"
        ],
        [
         "1",
         "2",
         "4.9",
         "3.0",
         "1.4",
         "0.2",
         "Iris-setosa"
        ],
        [
         "2",
         "3",
         "4.7",
         "3.2",
         "1.3",
         "0.2",
         "Iris-setosa"
        ],
        [
         "3",
         "4",
         null,
         "3.1",
         "1.5",
         "0.2",
         "Iris-setosa"
        ],
        [
         "4",
         "5",
         "5.0",
         "3.6",
         "1.4",
         "0.2",
         "Iris-setosa"
        ]
       ],
       "shape": {
        "columns": 6,
        "rows": 5
       }
      },
      "text/html": [
       "<div>\n",
       "<style scoped>\n",
       "    .dataframe tbody tr th:only-of-type {\n",
       "        vertical-align: middle;\n",
       "    }\n",
       "\n",
       "    .dataframe tbody tr th {\n",
       "        vertical-align: top;\n",
       "    }\n",
       "\n",
       "    .dataframe thead th {\n",
       "        text-align: right;\n",
       "    }\n",
       "</style>\n",
       "<table border=\"1\" class=\"dataframe\">\n",
       "  <thead>\n",
       "    <tr style=\"text-align: right;\">\n",
       "      <th></th>\n",
       "      <th>Id</th>\n",
       "      <th>SepalLengthCm</th>\n",
       "      <th>SepalWidthCm</th>\n",
       "      <th>PetalLengthCm</th>\n",
       "      <th>PetalWidthCm</th>\n",
       "      <th>Species</th>\n",
       "    </tr>\n",
       "  </thead>\n",
       "  <tbody>\n",
       "    <tr>\n",
       "      <th>0</th>\n",
       "      <td>1</td>\n",
       "      <td>5.1</td>\n",
       "      <td>3.5</td>\n",
       "      <td>1.4</td>\n",
       "      <td>0.2</td>\n",
       "      <td>Iris-setosa</td>\n",
       "    </tr>\n",
       "    <tr>\n",
       "      <th>1</th>\n",
       "      <td>2</td>\n",
       "      <td>4.9</td>\n",
       "      <td>3.0</td>\n",
       "      <td>1.4</td>\n",
       "      <td>0.2</td>\n",
       "      <td>Iris-setosa</td>\n",
       "    </tr>\n",
       "    <tr>\n",
       "      <th>2</th>\n",
       "      <td>3</td>\n",
       "      <td>4.7</td>\n",
       "      <td>3.2</td>\n",
       "      <td>1.3</td>\n",
       "      <td>0.2</td>\n",
       "      <td>Iris-setosa</td>\n",
       "    </tr>\n",
       "    <tr>\n",
       "      <th>3</th>\n",
       "      <td>4</td>\n",
       "      <td>NaN</td>\n",
       "      <td>3.1</td>\n",
       "      <td>1.5</td>\n",
       "      <td>0.2</td>\n",
       "      <td>Iris-setosa</td>\n",
       "    </tr>\n",
       "    <tr>\n",
       "      <th>4</th>\n",
       "      <td>5</td>\n",
       "      <td>5.0</td>\n",
       "      <td>3.6</td>\n",
       "      <td>1.4</td>\n",
       "      <td>0.2</td>\n",
       "      <td>Iris-setosa</td>\n",
       "    </tr>\n",
       "  </tbody>\n",
       "</table>\n",
       "</div>"
      ],
      "text/plain": [
       "   Id  SepalLengthCm  SepalWidthCm  PetalLengthCm  PetalWidthCm      Species\n",
       "0   1            5.1           3.5            1.4           0.2  Iris-setosa\n",
       "1   2            4.9           3.0            1.4           0.2  Iris-setosa\n",
       "2   3            4.7           3.2            1.3           0.2  Iris-setosa\n",
       "3   4            NaN           3.1            1.5           0.2  Iris-setosa\n",
       "4   5            5.0           3.6            1.4           0.2  Iris-setosa"
      ]
     },
     "execution_count": 51,
     "metadata": {},
     "output_type": "execute_result"
    }
   ],
   "source": [
    "data.head()"
   ]
  },
  {
   "cell_type": "markdown",
   "id": "c1c12a66",
   "metadata": {},
   "source": [
    "##### Check for missing values:"
   ]
  },
  {
   "cell_type": "code",
   "execution_count": 52,
   "id": "d5dd9f18",
   "metadata": {},
   "outputs": [
    {
     "data": {
      "application/vnd.microsoft.datawrangler.viewer.v0+json": {
       "columns": [
        {
         "name": "index",
         "rawType": "object",
         "type": "string"
        },
        {
         "name": "0",
         "rawType": "int64",
         "type": "integer"
        }
       ],
       "ref": "d1bf6978-b458-48c8-9344-82c226c88d11",
       "rows": [
        [
         "Id",
         "0"
        ],
        [
         "SepalLengthCm",
         "11"
        ],
        [
         "SepalWidthCm",
         "7"
        ],
        [
         "PetalLengthCm",
         "8"
        ],
        [
         "PetalWidthCm",
         "9"
        ],
        [
         "Species",
         "0"
        ]
       ],
       "shape": {
        "columns": 1,
        "rows": 6
       }
      },
      "text/plain": [
       "Id                0\n",
       "SepalLengthCm    11\n",
       "SepalWidthCm      7\n",
       "PetalLengthCm     8\n",
       "PetalWidthCm      9\n",
       "Species           0\n",
       "dtype: int64"
      ]
     },
     "execution_count": 52,
     "metadata": {},
     "output_type": "execute_result"
    }
   ],
   "source": [
    "data.isnull().sum()"
   ]
  },
  {
   "cell_type": "markdown",
   "id": "d71c4dce",
   "metadata": {},
   "source": [
    "additional plot for display missing values"
   ]
  },
  {
   "cell_type": "code",
   "execution_count": 53,
   "id": "8fbc85ef",
   "metadata": {},
   "outputs": [
    {
     "data": {
      "image/png": "[encoded data removed]",
      "text/plain": [
       "<Figure size 1000x500 with 1 Axes>"
      ]
     },
     "metadata": {},
     "output_type": "display_data"
    }
   ],
   "source": [
    "ax = data.drop([\"Id\"], axis=1).isnull().sum().plot(kind='bar', layout=(1,0), figsize=(10,5), zorder=2)\n",
    "ax.grid(True,which=\"major\", axis='y', zorder=1)"
   ]
  },
  {
   "cell_type": "markdown",
   "id": "f59918b7",
   "metadata": {},
   "source": [
    "##### Visualise missing data using a heatmap:"
   ]
  },
  {
   "cell_type": "code",
   "execution_count": 54,
   "id": "b6b62c89",
   "metadata": {},
   "outputs": [
    {
     "data": {
      "image/png": "[encoded data removed]",
      "text/plain": [
       "<Figure size 700x700 with 1 Axes>"
      ]
     },
     "metadata": {},
     "output_type": "display_data"
    }
   ],
   "source": [
    "fig, ax = plt.subplots(figsize=(7,7))\n",
    "sns.heatmap(data.drop([\"Id\"], axis=1).isna(),  cbar=False, yticklabels=False, cmap='viridis', ax=ax)\n",
    "ax.set_title(\"Missing values heatmap\")\n",
    "ax.set_xlabel(\"Features\")\n",
    "ax.tick_params(axis='x', rotation=90)\n"
   ]
  },
  {
   "cell_type": "markdown",
   "id": "1bf4fb74",
   "metadata": {},
   "source": [
    "##### Decide how to handle missing data (drop or fill) and apply changes:"
   ]
  },
  {
   "cell_type": "markdown",
   "id": "85e79502",
   "metadata": {},
   "source": [
    "Note:\n",
    "There are three types of missing value in dataset:\n",
    "1) Missing completely at random (MCAR).\n",
    "2) Missing at random (MAT).\n",
    "3) Misssing not at random (MNAT)."
   ]
  },
  {
   "cell_type": "markdown",
   "id": "c2891d30",
   "metadata": {},
   "source": [
    "**Missing Completely at Random (MCAR):**\n",
    "\n",
    "\n",
    "Definition: The probability of data being missing is not related to any other variables, observed or unobserved.\n",
    "\n",
    "Example: A data entry error, a device malfunction, or a survey question being skipped due to a formatting issue in the software.\n",
    "\n",
    "Impact: MCAR is the least problematic because removing the missing data points does not introduce bias. However, it's often an unrealistic assumption. "
   ]
  },
  {
   "cell_type": "markdown",
   "id": "1540696d",
   "metadata": {},
   "source": [
    "**Missing at Random (MAR):**\n",
    "\n",
    "Definition: The probability of data being missing depends on other variables that are already present in the dataset, but not on the missing value itself.\n",
    "\n",
    "Example: A patient's visiting frequency data is missing, but their income is recorded. If lower-income patients are less likely to visit the doctor, the missingness is related to their income.\n",
    "\n",
    "Impact: MAR is manageable because statistical models can often predict the missing values using the other observed variables to fill in the gaps. "
   ]
  },
  {
   "cell_type": "markdown",
   "id": "68a414ac",
   "metadata": {},
   "source": [
    "**Missing Not at Random (MNAR):**\n",
    "\n",
    "Definition: The missingness is directly related to the value of the missing data itself, and cannot be explained by other observed variables.\n",
    "\n",
    "Example: High-income individuals may not report their income, making the missing income value dependent on the income itself.\n",
    "\n",
    "Impact: MNAR is the most problematic type, as it can lead to biased results. Simply removing these cases can cause significant bias because the remaining data is no longer representative. \n"
   ]
  },
  {
   "cell_type": "markdown",
   "id": "14ca6a9e",
   "metadata": {},
   "source": [
    "**Strategies for addressing missing data:**\n",
    "1. Drop missing values: \n",
    "    - 5% or less of total values.\n",
    "2. Impute mean, median, mode:\n",
    "    - Depends on distribution and context.\n",
    "3. Impute by sub-group:\n",
    "    - Different experience levels have different median salary.\n",
    "4. Impute by AI models."
   ]
  },
  {
   "cell_type": "code",
   "execution_count": 55,
   "id": "df6e7293",
   "metadata": {},
   "outputs": [
    {
     "name": "stdout",
     "output_type": "stream",
     "text": [
      "7.5\n",
      "Index(['Id', 'SepalWidthCm', 'Species'], dtype='object')\n"
     ]
    }
   ],
   "source": [
    "threshold = len(data) * 0.05\n",
    "print(threshold)\n",
    "cols_to_drop = data.columns[data.isna().sum() <= threshold]\n",
    "print(cols_to_drop)"
   ]
  },
  {
   "cell_type": "code",
   "execution_count": 56,
   "id": "b403d81a",
   "metadata": {},
   "outputs": [
    {
     "name": "stdout",
     "output_type": "stream",
     "text": [
      "Index(['SepalLengthCm', 'SepalWidthCm', 'PetalLengthCm', 'PetalWidthCm'], dtype='object')\n"
     ]
    }
   ],
   "source": [
    "cols_with_missing_values = data.columns[data.isna().sum() > 0]\n",
    "print(cols_with_missing_values)\n",
    "for col in cols_with_missing_values[:-1]:\n",
    "    data[col].fillna(data[col].mode()[0])"
   ]
  },
  {
   "cell_type": "markdown",
   "id": "1abd2939",
   "metadata": {},
   "source": [
    "##### Check for duplicated rows and remove them if necessary:"
   ]
  },
  {
   "cell_type": "code",
   "execution_count": 57,
   "id": "6b862547",
   "metadata": {},
   "outputs": [
    {
     "data": {
      "text/plain": [
       "np.False_"
      ]
     },
     "execution_count": 57,
     "metadata": {},
     "output_type": "execute_result"
    }
   ],
   "source": [
    "data.duplicated().any()"
   ]
  },
  {
   "cell_type": "markdown",
   "id": "5bbcf35d",
   "metadata": {},
   "source": [
    "Duplicate the first row "
   ]
  },
  {
   "cell_type": "code",
   "execution_count": 60,
   "id": "eee2b0c7",
   "metadata": {},
   "outputs": [],
   "source": [
    "data.loc[len(data)] = data.loc[0]"
   ]
  },
  {
   "cell_type": "markdown",
   "id": "5af4f217",
   "metadata": {},
   "source": [
    "Recheck the duplicate the rows:"
   ]
  },
  {
   "cell_type": "code",
   "execution_count": 61,
   "id": "817a303d",
   "metadata": {},
   "outputs": [
    {
     "data": {
      "text/plain": [
       "np.True_"
      ]
     },
     "execution_count": 61,
     "metadata": {},
     "output_type": "execute_result"
    }
   ],
   "source": [
    "data.duplicated().any()"
   ]
  },
  {
   "cell_type": "markdown",
   "id": "500067d7",
   "metadata": {},
   "source": [
    "Display the duplicate rows:"
   ]
  },
  {
   "cell_type": "code",
   "execution_count": 62,
   "id": "3b3f0320",
   "metadata": {},
   "outputs": [
    {
     "data": {
      "application/vnd.microsoft.datawrangler.viewer.v0+json": {
       "columns": [
        {
         "name": "index",
         "rawType": "int64",
         "type": "integer"
        },
        {
         "name": "Id",
         "rawType": "int64",
         "type": "integer"
        },
        {
         "name": "SepalLengthCm",
         "rawType": "float64",
         "type": "float"
        },
        {
         "name": "SepalWidthCm",
         "rawType": "float64",
         "type": "float"
        },
        {
         "name": "PetalLengthCm",
         "rawType": "float64",
         "type": "float"
        },
        {
         "name": "PetalWidthCm",
         "rawType": "float64",
         "type": "float"
        },
        {
         "name": "Species",
         "rawType": "object",
         "type": "string"
        }
       ],
       "ref": "a626a974-1560-4a9d-be9a-3d59410c722f",
       "rows": [
        [
         "150",
         "1",
         "5.1",
         "3.5",
         "1.4",
         "0.2",
         "Iris-setosa"
        ],
        [
         "151",
         "1",
         "5.1",
         "3.5",
         "1.4",
         "0.2",
         "Iris-setosa"
        ]
       ],
       "shape": {
        "columns": 6,
        "rows": 2
       }
      },
      "text/html": [
       "<div>\n",
       "<style scoped>\n",
       "    .dataframe tbody tr th:only-of-type {\n",
       "        vertical-align: middle;\n",
       "    }\n",
       "\n",
       "    .dataframe tbody tr th {\n",
       "        vertical-align: top;\n",
       "    }\n",
       "\n",
       "    .dataframe thead th {\n",
       "        text-align: right;\n",
       "    }\n",
       "</style>\n",
       "<table border=\"1\" class=\"dataframe\">\n",
       "  <thead>\n",
       "    <tr style=\"text-align: right;\">\n",
       "      <th></th>\n",
       "      <th>Id</th>\n",
       "      <th>SepalLengthCm</th>\n",
       "      <th>SepalWidthCm</th>\n",
       "      <th>PetalLengthCm</th>\n",
       "      <th>PetalWidthCm</th>\n",
       "      <th>Species</th>\n",
       "    </tr>\n",
       "  </thead>\n",
       "  <tbody>\n",
       "    <tr>\n",
       "      <th>150</th>\n",
       "      <td>1</td>\n",
       "      <td>5.1</td>\n",
       "      <td>3.5</td>\n",
       "      <td>1.4</td>\n",
       "      <td>0.2</td>\n",
       "      <td>Iris-setosa</td>\n",
       "    </tr>\n",
       "    <tr>\n",
       "      <th>151</th>\n",
       "      <td>1</td>\n",
       "      <td>5.1</td>\n",
       "      <td>3.5</td>\n",
       "      <td>1.4</td>\n",
       "      <td>0.2</td>\n",
       "      <td>Iris-setosa</td>\n",
       "    </tr>\n",
       "  </tbody>\n",
       "</table>\n",
       "</div>"
      ],
      "text/plain": [
       "     Id  SepalLengthCm  SepalWidthCm  PetalLengthCm  PetalWidthCm      Species\n",
       "150   1            5.1           3.5            1.4           0.2  Iris-setosa\n",
       "151   1            5.1           3.5            1.4           0.2  Iris-setosa"
      ]
     },
     "execution_count": 62,
     "metadata": {},
     "output_type": "execute_result"
    }
   ],
   "source": [
    "data[data.duplicated()]"
   ]
  },
  {
   "cell_type": "markdown",
   "id": "61f81ebf",
   "metadata": {},
   "source": [
    "##### Convert incorrect data types (e.g., change object to category or datetime):"
   ]
  },
  {
   "cell_type": "code",
   "execution_count": 10,
   "id": "8bdd8081",
   "metadata": {},
   "outputs": [
    {
     "name": "stdout",
     "output_type": "stream",
     "text": [
      "<class 'pandas.core.frame.DataFrame'>\n",
      "RangeIndex: 150 entries, 0 to 149\n",
      "Data columns (total 6 columns):\n",
      " #   Column         Non-Null Count  Dtype  \n",
      "---  ------         --------------  -----  \n",
      " 0   Id             150 non-null    int64  \n",
      " 1   SepalLengthCm  139 non-null    float64\n",
      " 2   SepalWidthCm   143 non-null    float64\n",
      " 3   PetalLengthCm  142 non-null    float64\n",
      " 4   PetalWidthCm   141 non-null    float64\n",
      " 5   Species        150 non-null    object \n",
      "dtypes: float64(4), int64(1), object(1)\n",
      "memory usage: 7.2+ KB\n"
     ]
    }
   ],
   "source": [
    "data.info()"
   ]
  },
  {
   "cell_type": "code",
   "execution_count": 11,
   "id": "0f0a4dbc",
   "metadata": {},
   "outputs": [],
   "source": [
    "data[\"Species\"] = pd.Categorical(data['Species'])"
   ]
  },
  {
   "cell_type": "markdown",
   "id": "d7850882",
   "metadata": {},
   "source": [
    "##### Detect outliers using boxplots:"
   ]
  },
  {
   "cell_type": "markdown",
   "id": "7f6d2f5a",
   "metadata": {},
   "source": [
    "**Global outliers (Point anomalies):**\n",
    "\n",
    "These are individual data points that are significantly different from the majority of the dataset, both in value and behavior.\n",
    "\n",
    "Example: A data point showing a person's age is 250 when most other are betweeen of 1 to 120.\n"
   ]
  },
  {
   "cell_type": "markdown",
   "id": "545edbe2",
   "metadata": {},
   "source": [
    "**Contextual outliers (Conditional anomalies):**\n",
    "\n",
    "These are data points that are only unusual given a specific context or condition.\n",
    "\n",
    "Example: A temperature of 30°C is normal in summer but would be an outlier in winter.\n",
    "\n"
   ]
  },
  {
   "cell_type": "markdown",
   "id": "2190ed1c",
   "metadata": {},
   "source": [
    "**Collective outliers:**\n",
    "\n",
    "These are a set of data points that are unusual as a group, but the individual points themselves might not be outliers on their own.\n",
    "\n",
    "Example: A sudden, prolonged, and sustained drop in a stock's price over several minutes might be a collective outlier, even though each individual data point in that short timeframe could seem normal in isolation. "
   ]
  },
  {
   "cell_type": "code",
   "execution_count": 12,
   "id": "e3c1ff70",
   "metadata": {},
   "outputs": [
    {
     "data": {
      "text/plain": [
       "<Axes: xlabel='SepalWidthCm'>"
      ]
     },
     "execution_count": 12,
     "metadata": {},
     "output_type": "execute_result"
    },
    {
     "data": {
      "image/png": "[encoded data removed]",
      "text/plain": [
       "<Figure size 640x480 with 1 Axes>"
      ]
     },
     "metadata": {},
     "output_type": "display_data"
    }
   ],
   "source": [
    "sns.boxplot(data=data, x=\"SepalWidthCm\")"
   ]
  },
  {
   "cell_type": "markdown",
   "id": "807add80",
   "metadata": {},
   "source": [
    "Apply simple techniques to handle outliers (e.g., capping or removing):\n",
    "Calculate the upper and lower fences:\n",
    "\n",
    "Lower Fence (whiskers): Q1-(1.5*IQR)\n",
    "\n",
    "Upper Fence (whiskers): Q3+(1.5*IQR)"
   ]
  },
  {
   "cell_type": "code",
   "execution_count": null,
   "id": "8a1a60b6",
   "metadata": {},
   "outputs": [],
   "source": [
    "threshold_low = data[\"SepalWidthCm\"].quantile(0.25) - (1.5 * (data[\"SepalWidthCm\"].quantile(0.75) - data[\"SepalWidthCm\"].quantile(0.25)))\n",
    "threshold_high = data[\"SepalWidthCm\"].quantile(0.75) + (1.5 * (data[\"SepalWidthCm\"].quantile(0.75) - data[\"SepalWidthCm\"].quantile(0.25)))\n",
    "data[(threshold_low< data[\"SepalWidthCm\"] ) | (data[\"SepalWidthCm\"] < threshold_high)]"
   ]
  },
  {
   "cell_type": "markdown",
   "id": "59a66a52",
   "metadata": {},
   "source": [
    "##### Summarise the cleaning steps you performed and explain why:"
   ]
  },
  {
   "cell_type": "markdown",
   "id": "6f796ffc",
   "metadata": {},
   "source": []
  }
 ],
 "metadata": {
  "kernelspec": {
   "display_name": "ML_TP",
   "language": "python",
   "name": "python3"
  },
  "language_info": {
   "codemirror_mode": {
    "name": "ipython",
    "version": 3
   },
   "file_extension": ".py",
   "mimetype": "text/x-python",
   "name": "python",
   "nbconvert_exporter": "python",
   "pygments_lexer": "ipython3",
   "version": "3.12.0"
  }
 },
 "nbformat": 4,
 "nbformat_minor": 5
}
