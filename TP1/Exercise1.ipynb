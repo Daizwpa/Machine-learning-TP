{
 "cells": [
  {
   "cell_type": "markdown",
   "id": "d4672ed4",
   "metadata": {},
   "source": [
    "# This Notebook corresponds to the first exersice at the first TP."
   ]
  },
  {
   "cell_type": "markdown",
   "id": "138d7607",
   "metadata": {},
   "source": [
    "Task:\n",
    "Donwload [Titanic dataset](https://web.stanford.edu/class/archive/cs/cs109/cs109.1166/stuff/titanic.csv) and put it  inside dataset folder in your project folder."
   ]
  },
  {
   "cell_type": "markdown",
   "id": "bd14f3e3",
   "metadata": {},
   "source": [
    "Library importation:"
   ]
  },
  {
   "cell_type": "code",
   "execution_count": 11,
   "id": "c5a073ca",
   "metadata": {},
   "outputs": [],
   "source": [
    "import pandas as pd\n",
    "import numpy as np\n",
    "import matplotlib.pyplot as plt\n",
    "import seaborn as sns"
   ]
  },
  {
   "cell_type": "markdown",
   "id": "d847dc83",
   "metadata": {},
   "source": [
    "Loading the dataset into a DataFrame:"
   ]
  },
  {
   "cell_type": "code",
   "execution_count": 2,
   "id": "ed967afd",
   "metadata": {},
   "outputs": [],
   "source": [
    "dataset_path = \"./../dataset/titanic.csv\"\n",
    "data = pd.read_csv(dataset_path)"
   ]
  },
  {
   "cell_type": "markdown",
   "id": "1448275c",
   "metadata": {},
   "source": [
    "Display the first and last 5 rows of the dataset:"
   ]
  },
  {
   "cell_type": "code",
   "execution_count": 3,
   "id": "270bb310",
   "metadata": {},
   "outputs": [
    {
     "data": {
      "application/vnd.microsoft.datawrangler.viewer.v0+json": {
       "columns": [
        {
         "name": "index",
         "rawType": "int64",
         "type": "integer"
        },
        {
         "name": "Survived",
         "rawType": "int64",
         "type": "integer"
        },
        {
         "name": "Pclass",
         "rawType": "int64",
         "type": "integer"
        },
        {
         "name": "Name",
         "rawType": "object",
         "type": "string"
        },
        {
         "name": "Sex",
         "rawType": "object",
         "type": "string"
        },
        {
         "name": "Age",
         "rawType": "float64",
         "type": "float"
        },
        {
         "name": "Siblings/Spouses Aboard",
         "rawType": "int64",
         "type": "integer"
        },
        {
         "name": "Parents/Children Aboard",
         "rawType": "int64",
         "type": "integer"
        },
        {
         "name": "Fare",
         "rawType": "float64",
         "type": "float"
        }
       ],
       "ref": "e707ecd8-6558-4cf1-85dc-c51c909f72ff",
       "rows": [
        [
         "0",
         "0",
         "3",
         "Mr. Owen Harris Braund",
         "male",
         "22.0",
         "1",
         "0",
         "7.25"
        ],
        [
         "1",
         "1",
         "1",
         "Mrs. John Bradley (Florence Briggs Thayer) Cumings",
         "female",
         "38.0",
         "1",
         "0",
         "71.2833"
        ],
        [
         "2",
         "1",
         "3",
         "Miss. Laina Heikkinen",
         "female",
         "26.0",
         "0",
         "0",
         "7.925"
        ],
        [
         "3",
         "1",
         "1",
         "Mrs. Jacques Heath (Lily May Peel) Futrelle",
         "female",
         "35.0",
         "1",
         "0",
         "53.1"
        ],
        [
         "4",
         "0",
         "3",
         "Mr. William Henry Allen",
         "male",
         "35.0",
         "0",
         "0",
         "8.05"
        ]
       ],
       "shape": {
        "columns": 8,
        "rows": 5
       }
      },
      "text/html": [
       "<div>\n",
       "<style scoped>\n",
       "    .dataframe tbody tr th:only-of-type {\n",
       "        vertical-align: middle;\n",
       "    }\n",
       "\n",
       "    .dataframe tbody tr th {\n",
       "        vertical-align: top;\n",
       "    }\n",
       "\n",
       "    .dataframe thead th {\n",
       "        text-align: right;\n",
       "    }\n",
       "</style>\n",
       "<table border=\"1\" class=\"dataframe\">\n",
       "  <thead>\n",
       "    <tr style=\"text-align: right;\">\n",
       "      <th></th>\n",
       "      <th>Survived</th>\n",
       "      <th>Pclass</th>\n",
       "      <th>Name</th>\n",
       "      <th>Sex</th>\n",
       "      <th>Age</th>\n",
       "      <th>Siblings/Spouses Aboard</th>\n",
       "      <th>Parents/Children Aboard</th>\n",
       "      <th>Fare</th>\n",
       "    </tr>\n",
       "  </thead>\n",
       "  <tbody>\n",
       "    <tr>\n",
       "      <th>0</th>\n",
       "      <td>0</td>\n",
       "      <td>3</td>\n",
       "      <td>Mr. Owen Harris Braund</td>\n",
       "      <td>male</td>\n",
       "      <td>22.0</td>\n",
       "      <td>1</td>\n",
       "      <td>0</td>\n",
       "      <td>7.2500</td>\n",
       "    </tr>\n",
       "    <tr>\n",
       "      <th>1</th>\n",
       "      <td>1</td>\n",
       "      <td>1</td>\n",
       "      <td>Mrs. John Bradley (Florence Briggs Thayer) Cum...</td>\n",
       "      <td>female</td>\n",
       "      <td>38.0</td>\n",
       "      <td>1</td>\n",
       "      <td>0</td>\n",
       "      <td>71.2833</td>\n",
       "    </tr>\n",
       "    <tr>\n",
       "      <th>2</th>\n",
       "      <td>1</td>\n",
       "      <td>3</td>\n",
       "      <td>Miss. Laina Heikkinen</td>\n",
       "      <td>female</td>\n",
       "      <td>26.0</td>\n",
       "      <td>0</td>\n",
       "      <td>0</td>\n",
       "      <td>7.9250</td>\n",
       "    </tr>\n",
       "    <tr>\n",
       "      <th>3</th>\n",
       "      <td>1</td>\n",
       "      <td>1</td>\n",
       "      <td>Mrs. Jacques Heath (Lily May Peel) Futrelle</td>\n",
       "      <td>female</td>\n",
       "      <td>35.0</td>\n",
       "      <td>1</td>\n",
       "      <td>0</td>\n",
       "      <td>53.1000</td>\n",
       "    </tr>\n",
       "    <tr>\n",
       "      <th>4</th>\n",
       "      <td>0</td>\n",
       "      <td>3</td>\n",
       "      <td>Mr. William Henry Allen</td>\n",
       "      <td>male</td>\n",
       "      <td>35.0</td>\n",
       "      <td>0</td>\n",
       "      <td>0</td>\n",
       "      <td>8.0500</td>\n",
       "    </tr>\n",
       "  </tbody>\n",
       "</table>\n",
       "</div>"
      ],
      "text/plain": [
       "   Survived  Pclass                                               Name  \\\n",
       "0         0       3                             Mr. Owen Harris Braund   \n",
       "1         1       1  Mrs. John Bradley (Florence Briggs Thayer) Cum...   \n",
       "2         1       3                              Miss. Laina Heikkinen   \n",
       "3         1       1        Mrs. Jacques Heath (Lily May Peel) Futrelle   \n",
       "4         0       3                            Mr. William Henry Allen   \n",
       "\n",
       "      Sex   Age  Siblings/Spouses Aboard  Parents/Children Aboard     Fare  \n",
       "0    male  22.0                        1                        0   7.2500  \n",
       "1  female  38.0                        1                        0  71.2833  \n",
       "2  female  26.0                        0                        0   7.9250  \n",
       "3  female  35.0                        1                        0  53.1000  \n",
       "4    male  35.0                        0                        0   8.0500  "
      ]
     },
     "execution_count": 3,
     "metadata": {},
     "output_type": "execute_result"
    }
   ],
   "source": [
    "data.head(n=5)"
   ]
  },
  {
   "cell_type": "code",
   "execution_count": 4,
   "id": "6f715164",
   "metadata": {},
   "outputs": [
    {
     "data": {
      "application/vnd.microsoft.datawrangler.viewer.v0+json": {
       "columns": [
        {
         "name": "index",
         "rawType": "int64",
         "type": "integer"
        },
        {
         "name": "Survived",
         "rawType": "int64",
         "type": "integer"
        },
        {
         "name": "Pclass",
         "rawType": "int64",
         "type": "integer"
        },
        {
         "name": "Name",
         "rawType": "object",
         "type": "string"
        },
        {
         "name": "Sex",
         "rawType": "object",
         "type": "string"
        },
        {
         "name": "Age",
         "rawType": "float64",
         "type": "float"
        },
        {
         "name": "Siblings/Spouses Aboard",
         "rawType": "int64",
         "type": "integer"
        },
        {
         "name": "Parents/Children Aboard",
         "rawType": "int64",
         "type": "integer"
        },
        {
         "name": "Fare",
         "rawType": "float64",
         "type": "float"
        }
       ],
       "ref": "c1f775da-9193-470d-ab33-48663afb3b58",
       "rows": [
        [
         "882",
         "0",
         "2",
         "Rev. Juozas Montvila",
         "male",
         "27.0",
         "0",
         "0",
         "13.0"
        ],
        [
         "883",
         "1",
         "1",
         "Miss. Margaret Edith Graham",
         "female",
         "19.0",
         "0",
         "0",
         "30.0"
        ],
        [
         "884",
         "0",
         "3",
         "Miss. Catherine Helen Johnston",
         "female",
         "7.0",
         "1",
         "2",
         "23.45"
        ],
        [
         "885",
         "1",
         "1",
         "Mr. Karl Howell Behr",
         "male",
         "26.0",
         "0",
         "0",
         "30.0"
        ],
        [
         "886",
         "0",
         "3",
         "Mr. Patrick Dooley",
         "male",
         "32.0",
         "0",
         "0",
         "7.75"
        ]
       ],
       "shape": {
        "columns": 8,
        "rows": 5
       }
      },
      "text/html": [
       "<div>\n",
       "<style scoped>\n",
       "    .dataframe tbody tr th:only-of-type {\n",
       "        vertical-align: middle;\n",
       "    }\n",
       "\n",
       "    .dataframe tbody tr th {\n",
       "        vertical-align: top;\n",
       "    }\n",
       "\n",
       "    .dataframe thead th {\n",
       "        text-align: right;\n",
       "    }\n",
       "</style>\n",
       "<table border=\"1\" class=\"dataframe\">\n",
       "  <thead>\n",
       "    <tr style=\"text-align: right;\">\n",
       "      <th></th>\n",
       "      <th>Survived</th>\n",
       "      <th>Pclass</th>\n",
       "      <th>Name</th>\n",
       "      <th>Sex</th>\n",
       "      <th>Age</th>\n",
       "      <th>Siblings/Spouses Aboard</th>\n",
       "      <th>Parents/Children Aboard</th>\n",
       "      <th>Fare</th>\n",
       "    </tr>\n",
       "  </thead>\n",
       "  <tbody>\n",
       "    <tr>\n",
       "      <th>882</th>\n",
       "      <td>0</td>\n",
       "      <td>2</td>\n",
       "      <td>Rev. Juozas Montvila</td>\n",
       "      <td>male</td>\n",
       "      <td>27.0</td>\n",
       "      <td>0</td>\n",
       "      <td>0</td>\n",
       "      <td>13.00</td>\n",
       "    </tr>\n",
       "    <tr>\n",
       "      <th>883</th>\n",
       "      <td>1</td>\n",
       "      <td>1</td>\n",
       "      <td>Miss. Margaret Edith Graham</td>\n",
       "      <td>female</td>\n",
       "      <td>19.0</td>\n",
       "      <td>0</td>\n",
       "      <td>0</td>\n",
       "      <td>30.00</td>\n",
       "    </tr>\n",
       "    <tr>\n",
       "      <th>884</th>\n",
       "      <td>0</td>\n",
       "      <td>3</td>\n",
       "      <td>Miss. Catherine Helen Johnston</td>\n",
       "      <td>female</td>\n",
       "      <td>7.0</td>\n",
       "      <td>1</td>\n",
       "      <td>2</td>\n",
       "      <td>23.45</td>\n",
       "    </tr>\n",
       "    <tr>\n",
       "      <th>885</th>\n",
       "      <td>1</td>\n",
       "      <td>1</td>\n",
       "      <td>Mr. Karl Howell Behr</td>\n",
       "      <td>male</td>\n",
       "      <td>26.0</td>\n",
       "      <td>0</td>\n",
       "      <td>0</td>\n",
       "      <td>30.00</td>\n",
       "    </tr>\n",
       "    <tr>\n",
       "      <th>886</th>\n",
       "      <td>0</td>\n",
       "      <td>3</td>\n",
       "      <td>Mr. Patrick Dooley</td>\n",
       "      <td>male</td>\n",
       "      <td>32.0</td>\n",
       "      <td>0</td>\n",
       "      <td>0</td>\n",
       "      <td>7.75</td>\n",
       "    </tr>\n",
       "  </tbody>\n",
       "</table>\n",
       "</div>"
      ],
      "text/plain": [
       "     Survived  Pclass                            Name     Sex   Age  \\\n",
       "882         0       2            Rev. Juozas Montvila    male  27.0   \n",
       "883         1       1     Miss. Margaret Edith Graham  female  19.0   \n",
       "884         0       3  Miss. Catherine Helen Johnston  female   7.0   \n",
       "885         1       1            Mr. Karl Howell Behr    male  26.0   \n",
       "886         0       3              Mr. Patrick Dooley    male  32.0   \n",
       "\n",
       "     Siblings/Spouses Aboard  Parents/Children Aboard   Fare  \n",
       "882                        0                        0  13.00  \n",
       "883                        0                        0  30.00  \n",
       "884                        1                        2  23.45  \n",
       "885                        0                        0  30.00  \n",
       "886                        0                        0   7.75  "
      ]
     },
     "execution_count": 4,
     "metadata": {},
     "output_type": "execute_result"
    }
   ],
   "source": [
    "data.tail(n=5)"
   ]
  },
  {
   "cell_type": "markdown",
   "id": "d412fdbb",
   "metadata": {},
   "source": [
    "Show the number of rows and columns:"
   ]
  },
  {
   "cell_type": "code",
   "execution_count": 17,
   "id": "0a0d91bc",
   "metadata": {},
   "outputs": [
    {
     "name": "stdout",
     "output_type": "stream",
     "text": [
      "row count: 887 | column count: 8\n"
     ]
    }
   ],
   "source": [
    "print(f\"row count: {data.shape[0]} | column count: {data.shape[1]}\")"
   ]
  },
  {
   "cell_type": "markdown",
   "id": "6c40c7bf",
   "metadata": {},
   "source": [
    "Display column names and data types:"
   ]
  },
  {
   "cell_type": "code",
   "execution_count": 6,
   "id": "4ddaf264",
   "metadata": {},
   "outputs": [
    {
     "name": "stdout",
     "output_type": "stream",
     "text": [
      "<class 'pandas.core.frame.DataFrame'>\n",
      "RangeIndex: 887 entries, 0 to 886\n",
      "Data columns (total 8 columns):\n",
      " #   Column                   Non-Null Count  Dtype  \n",
      "---  ------                   --------------  -----  \n",
      " 0   Survived                 887 non-null    int64  \n",
      " 1   Pclass                   887 non-null    int64  \n",
      " 2   Name                     887 non-null    object \n",
      " 3   Sex                      887 non-null    object \n",
      " 4   Age                      887 non-null    float64\n",
      " 5   Siblings/Spouses Aboard  887 non-null    int64  \n",
      " 6   Parents/Children Aboard  887 non-null    int64  \n",
      " 7   Fare                     887 non-null    float64\n",
      "dtypes: float64(2), int64(4), object(2)\n",
      "memory usage: 55.6+ KB\n"
     ]
    }
   ],
   "source": [
    "data.dtypes()"
   ]
  },
  {
   "cell_type": "markdown",
   "id": "abdd7009",
   "metadata": {},
   "source": [
    "Use .info() and .describe() to understand data statistics:"
   ]
  },
  {
   "cell_type": "code",
   "execution_count": 10,
   "id": "b6baeb99",
   "metadata": {},
   "outputs": [
    {
     "data": {
      "application/vnd.microsoft.datawrangler.viewer.v0+json": {
       "columns": [
        {
         "name": "index",
         "rawType": "int64",
         "type": "integer"
        },
        {
         "name": "Name",
         "rawType": "object",
         "type": "string"
        },
        {
         "name": "Sex",
         "rawType": "object",
         "type": "string"
        }
       ],
       "ref": "752bc760-3674-49c5-8483-eaa96785d282",
       "rows": [
        [
         "0",
         "Mr. Owen Harris Braund",
         "male"
        ],
        [
         "1",
         "Mrs. John Bradley (Florence Briggs Thayer) Cumings",
         "female"
        ],
        [
         "2",
         "Miss. Laina Heikkinen",
         "female"
        ],
        [
         "3",
         "Mrs. Jacques Heath (Lily May Peel) Futrelle",
         "female"
        ],
        [
         "4",
         "Mr. William Henry Allen",
         "male"
        ],
        [
         "5",
         "Mr. James Moran",
         "male"
        ],
        [
         "6",
         "Mr. Timothy J McCarthy",
         "male"
        ],
        [
         "7",
         "Master. Gosta Leonard Palsson",
         "male"
        ],
        [
         "8",
         "Mrs. Oscar W (Elisabeth Vilhelmina Berg) Johnson",
         "female"
        ],
        [
         "9",
         "Mrs. Nicholas (Adele Achem) Nasser",
         "female"
        ],
        [
         "10",
         "Miss. Marguerite Rut Sandstrom",
         "female"
        ],
        [
         "11",
         "Miss. Elizabeth Bonnell",
         "female"
        ],
        [
         "12",
         "Mr. William Henry Saundercock",
         "male"
        ],
        [
         "13",
         "Mr. Anders Johan Andersson",
         "male"
        ],
        [
         "14",
         "Miss. Hulda Amanda Adolfina Vestrom",
         "female"
        ],
        [
         "15",
         "Mrs. (Mary D Kingcome) Hewlett",
         "female"
        ],
        [
         "16",
         "Master. Eugene Rice",
         "male"
        ],
        [
         "17",
         "Mr. Charles Eugene Williams",
         "male"
        ],
        [
         "18",
         "Mrs. Julius (Emelia Maria Vandemoortele) Vander Planke",
         "female"
        ],
        [
         "19",
         "Mrs. Fatima Masselmani",
         "female"
        ],
        [
         "20",
         "Mr. Joseph J Fynney",
         "male"
        ],
        [
         "21",
         "Mr. Lawrence Beesley",
         "male"
        ],
        [
         "22",
         "Miss. Anna McGowan",
         "female"
        ],
        [
         "23",
         "Mr. William Thompson Sloper",
         "male"
        ],
        [
         "24",
         "Miss. Torborg Danira Palsson",
         "female"
        ],
        [
         "25",
         "Mrs. Carl Oscar (Selma Augusta Emilia Johansson) Asplund",
         "female"
        ],
        [
         "26",
         "Mr. Farred Chehab Emir",
         "male"
        ],
        [
         "27",
         "Mr. Charles Alexander Fortune",
         "male"
        ],
        [
         "28",
         "Miss. Ellen O'Dwyer",
         "female"
        ],
        [
         "29",
         "Mr. Lalio Todoroff",
         "male"
        ],
        [
         "30",
         "Don. Manuel E Uruchurtu",
         "male"
        ],
        [
         "31",
         "Mrs. William Augustus (Marie Eugenie) Spencer",
         "female"
        ],
        [
         "32",
         "Miss. Mary Agatha Glynn",
         "female"
        ],
        [
         "33",
         "Mr. Edward H Wheadon",
         "male"
        ],
        [
         "34",
         "Mr. Edgar Joseph Meyer",
         "male"
        ],
        [
         "35",
         "Mr. Alexander Oskar Holverson",
         "male"
        ],
        [
         "36",
         "Mr. Hanna Mamee",
         "male"
        ],
        [
         "37",
         "Mr. Ernest Charles Cann",
         "male"
        ],
        [
         "38",
         "Miss. Augusta Maria Vander Planke",
         "female"
        ],
        [
         "39",
         "Miss. Jamila Nicola-Yarred",
         "female"
        ],
        [
         "40",
         "Mrs. Johan (Johanna Persdotter Larsson) Ahlin",
         "female"
        ],
        [
         "41",
         "Mrs. William John Robert (Dorothy Ann Wonnacott) Turpin",
         "female"
        ],
        [
         "42",
         "Miss. Simonne Marie Anne Andree Laroche",
         "female"
        ],
        [
         "43",
         "Miss. Margaret Delia Devaney",
         "female"
        ],
        [
         "44",
         "Mr. William John Rogers",
         "male"
        ],
        [
         "45",
         "Mr. Denis Lennon",
         "male"
        ],
        [
         "46",
         "Miss. Bridget O'Driscoll",
         "female"
        ],
        [
         "47",
         "Mr. Youssef Samaan",
         "male"
        ],
        [
         "48",
         "Mrs. Josef (Josefine Franchi) Arnold-Franchi",
         "female"
        ],
        [
         "49",
         "Master. Juha Niilo Panula",
         "male"
        ]
       ],
       "shape": {
        "columns": 2,
        "rows": 887
       }
      },
      "text/html": [
       "<div>\n",
       "<style scoped>\n",
       "    .dataframe tbody tr th:only-of-type {\n",
       "        vertical-align: middle;\n",
       "    }\n",
       "\n",
       "    .dataframe tbody tr th {\n",
       "        vertical-align: top;\n",
       "    }\n",
       "\n",
       "    .dataframe thead th {\n",
       "        text-align: right;\n",
       "    }\n",
       "</style>\n",
       "<table border=\"1\" class=\"dataframe\">\n",
       "  <thead>\n",
       "    <tr style=\"text-align: right;\">\n",
       "      <th></th>\n",
       "      <th>Name</th>\n",
       "      <th>Sex</th>\n",
       "    </tr>\n",
       "  </thead>\n",
       "  <tbody>\n",
       "    <tr>\n",
       "      <th>0</th>\n",
       "      <td>Mr. Owen Harris Braund</td>\n",
       "      <td>male</td>\n",
       "    </tr>\n",
       "    <tr>\n",
       "      <th>1</th>\n",
       "      <td>Mrs. John Bradley (Florence Briggs Thayer) Cum...</td>\n",
       "      <td>female</td>\n",
       "    </tr>\n",
       "    <tr>\n",
       "      <th>2</th>\n",
       "      <td>Miss. Laina Heikkinen</td>\n",
       "      <td>female</td>\n",
       "    </tr>\n",
       "    <tr>\n",
       "      <th>3</th>\n",
       "      <td>Mrs. Jacques Heath (Lily May Peel) Futrelle</td>\n",
       "      <td>female</td>\n",
       "    </tr>\n",
       "    <tr>\n",
       "      <th>4</th>\n",
       "      <td>Mr. William Henry Allen</td>\n",
       "      <td>male</td>\n",
       "    </tr>\n",
       "    <tr>\n",
       "      <th>...</th>\n",
       "      <td>...</td>\n",
       "      <td>...</td>\n",
       "    </tr>\n",
       "    <tr>\n",
       "      <th>882</th>\n",
       "      <td>Rev. Juozas Montvila</td>\n",
       "      <td>male</td>\n",
       "    </tr>\n",
       "    <tr>\n",
       "      <th>883</th>\n",
       "      <td>Miss. Margaret Edith Graham</td>\n",
       "      <td>female</td>\n",
       "    </tr>\n",
       "    <tr>\n",
       "      <th>884</th>\n",
       "      <td>Miss. Catherine Helen Johnston</td>\n",
       "      <td>female</td>\n",
       "    </tr>\n",
       "    <tr>\n",
       "      <th>885</th>\n",
       "      <td>Mr. Karl Howell Behr</td>\n",
       "      <td>male</td>\n",
       "    </tr>\n",
       "    <tr>\n",
       "      <th>886</th>\n",
       "      <td>Mr. Patrick Dooley</td>\n",
       "      <td>male</td>\n",
       "    </tr>\n",
       "  </tbody>\n",
       "</table>\n",
       "<p>887 rows × 2 columns</p>\n",
       "</div>"
      ],
      "text/plain": [
       "                                                  Name     Sex\n",
       "0                               Mr. Owen Harris Braund    male\n",
       "1    Mrs. John Bradley (Florence Briggs Thayer) Cum...  female\n",
       "2                                Miss. Laina Heikkinen  female\n",
       "3          Mrs. Jacques Heath (Lily May Peel) Futrelle  female\n",
       "4                              Mr. William Henry Allen    male\n",
       "..                                                 ...     ...\n",
       "882                               Rev. Juozas Montvila    male\n",
       "883                        Miss. Margaret Edith Graham  female\n",
       "884                     Miss. Catherine Helen Johnston  female\n",
       "885                               Mr. Karl Howell Behr    male\n",
       "886                                 Mr. Patrick Dooley    male\n",
       "\n",
       "[887 rows x 2 columns]"
      ]
     },
     "execution_count": 10,
     "metadata": {},
     "output_type": "execute_result"
    }
   ],
   "source": [
    "data.info()"
   ]
  },
  {
   "cell_type": "code",
   "execution_count": null,
   "id": "7acd2d0e",
   "metadata": {},
   "outputs": [],
   "source": [
    "data.describe()"
   ]
  },
  {
   "cell_type": "markdown",
   "id": "c9a97c9c",
   "metadata": {},
   "source": [
    "Identify categorical and numerical columns."
   ]
  },
  {
   "cell_type": "code",
   "execution_count": 16,
   "id": "abb51ade",
   "metadata": {},
   "outputs": [
    {
     "data": {
      "application/vnd.microsoft.datawrangler.viewer.v0+json": {
       "columns": [
        {
         "name": "index",
         "rawType": "int64",
         "type": "integer"
        },
        {
         "name": "Survived",
         "rawType": "int64",
         "type": "integer"
        },
        {
         "name": "Pclass",
         "rawType": "int64",
         "type": "integer"
        },
        {
         "name": "Age",
         "rawType": "float64",
         "type": "float"
        },
        {
         "name": "Siblings/Spouses Aboard",
         "rawType": "int64",
         "type": "integer"
        },
        {
         "name": "Parents/Children Aboard",
         "rawType": "int64",
         "type": "integer"
        },
        {
         "name": "Fare",
         "rawType": "float64",
         "type": "float"
        }
       ],
       "ref": "6a35d915-247a-4450-9ca2-e1f8456eb14d",
       "rows": [
        [
         "0",
         "0",
         "3",
         "22.0",
         "1",
         "0",
         "7.25"
        ],
        [
         "1",
         "1",
         "1",
         "38.0",
         "1",
         "0",
         "71.2833"
        ],
        [
         "2",
         "1",
         "3",
         "26.0",
         "0",
         "0",
         "7.925"
        ],
        [
         "3",
         "1",
         "1",
         "35.0",
         "1",
         "0",
         "53.1"
        ],
        [
         "4",
         "0",
         "3",
         "35.0",
         "0",
         "0",
         "8.05"
        ],
        [
         "5",
         "0",
         "3",
         "27.0",
         "0",
         "0",
         "8.4583"
        ],
        [
         "6",
         "0",
         "1",
         "54.0",
         "0",
         "0",
         "51.8625"
        ],
        [
         "7",
         "0",
         "3",
         "2.0",
         "3",
         "1",
         "21.075"
        ],
        [
         "8",
         "1",
         "3",
         "27.0",
         "0",
         "2",
         "11.1333"
        ],
        [
         "9",
         "1",
         "2",
         "14.0",
         "1",
         "0",
         "30.0708"
        ],
        [
         "10",
         "1",
         "3",
         "4.0",
         "1",
         "1",
         "16.7"
        ],
        [
         "11",
         "1",
         "1",
         "58.0",
         "0",
         "0",
         "26.55"
        ],
        [
         "12",
         "0",
         "3",
         "20.0",
         "0",
         "0",
         "8.05"
        ],
        [
         "13",
         "0",
         "3",
         "39.0",
         "1",
         "5",
         "31.275"
        ],
        [
         "14",
         "0",
         "3",
         "14.0",
         "0",
         "0",
         "7.8542"
        ],
        [
         "15",
         "1",
         "2",
         "55.0",
         "0",
         "0",
         "16.0"
        ],
        [
         "16",
         "0",
         "3",
         "2.0",
         "4",
         "1",
         "29.125"
        ],
        [
         "17",
         "1",
         "2",
         "23.0",
         "0",
         "0",
         "13.0"
        ],
        [
         "18",
         "0",
         "3",
         "31.0",
         "1",
         "0",
         "18.0"
        ],
        [
         "19",
         "1",
         "3",
         "22.0",
         "0",
         "0",
         "7.225"
        ],
        [
         "20",
         "0",
         "2",
         "35.0",
         "0",
         "0",
         "26.0"
        ],
        [
         "21",
         "1",
         "2",
         "34.0",
         "0",
         "0",
         "13.0"
        ],
        [
         "22",
         "1",
         "3",
         "15.0",
         "0",
         "0",
         "8.0292"
        ],
        [
         "23",
         "1",
         "1",
         "28.0",
         "0",
         "0",
         "35.5"
        ],
        [
         "24",
         "0",
         "3",
         "8.0",
         "3",
         "1",
         "21.075"
        ],
        [
         "25",
         "1",
         "3",
         "38.0",
         "1",
         "5",
         "31.3875"
        ],
        [
         "26",
         "0",
         "3",
         "26.0",
         "0",
         "0",
         "7.225"
        ],
        [
         "27",
         "0",
         "1",
         "19.0",
         "3",
         "2",
         "263.0"
        ],
        [
         "28",
         "1",
         "3",
         "24.0",
         "0",
         "0",
         "7.8792"
        ],
        [
         "29",
         "0",
         "3",
         "23.0",
         "0",
         "0",
         "7.8958"
        ],
        [
         "30",
         "0",
         "1",
         "40.0",
         "0",
         "0",
         "27.7208"
        ],
        [
         "31",
         "1",
         "1",
         "48.0",
         "1",
         "0",
         "146.5208"
        ],
        [
         "32",
         "1",
         "3",
         "18.0",
         "0",
         "0",
         "7.75"
        ],
        [
         "33",
         "0",
         "2",
         "66.0",
         "0",
         "0",
         "10.5"
        ],
        [
         "34",
         "0",
         "1",
         "28.0",
         "1",
         "0",
         "82.1708"
        ],
        [
         "35",
         "0",
         "1",
         "42.0",
         "1",
         "0",
         "52.0"
        ],
        [
         "36",
         "1",
         "3",
         "18.0",
         "0",
         "0",
         "7.2292"
        ],
        [
         "37",
         "0",
         "3",
         "21.0",
         "0",
         "0",
         "8.05"
        ],
        [
         "38",
         "0",
         "3",
         "18.0",
         "2",
         "0",
         "18.0"
        ],
        [
         "39",
         "1",
         "3",
         "14.0",
         "1",
         "0",
         "11.2417"
        ],
        [
         "40",
         "0",
         "3",
         "40.0",
         "1",
         "0",
         "9.475"
        ],
        [
         "41",
         "0",
         "2",
         "27.0",
         "1",
         "0",
         "21.0"
        ],
        [
         "42",
         "1",
         "2",
         "3.0",
         "1",
         "2",
         "41.5792"
        ],
        [
         "43",
         "1",
         "3",
         "19.0",
         "0",
         "0",
         "7.8792"
        ],
        [
         "44",
         "0",
         "3",
         "30.0",
         "0",
         "0",
         "8.05"
        ],
        [
         "45",
         "0",
         "3",
         "20.0",
         "1",
         "0",
         "15.5"
        ],
        [
         "46",
         "1",
         "3",
         "27.0",
         "0",
         "0",
         "7.75"
        ],
        [
         "47",
         "0",
         "3",
         "16.0",
         "2",
         "0",
         "21.6792"
        ],
        [
         "48",
         "0",
         "3",
         "18.0",
         "1",
         "0",
         "17.8"
        ],
        [
         "49",
         "0",
         "3",
         "7.0",
         "4",
         "1",
         "39.6875"
        ]
       ],
       "shape": {
        "columns": 6,
        "rows": 887
       }
      },
      "text/html": [
       "<div>\n",
       "<style scoped>\n",
       "    .dataframe tbody tr th:only-of-type {\n",
       "        vertical-align: middle;\n",
       "    }\n",
       "\n",
       "    .dataframe tbody tr th {\n",
       "        vertical-align: top;\n",
       "    }\n",
       "\n",
       "    .dataframe thead th {\n",
       "        text-align: right;\n",
       "    }\n",
       "</style>\n",
       "<table border=\"1\" class=\"dataframe\">\n",
       "  <thead>\n",
       "    <tr style=\"text-align: right;\">\n",
       "      <th></th>\n",
       "      <th>Survived</th>\n",
       "      <th>Pclass</th>\n",
       "      <th>Age</th>\n",
       "      <th>Siblings/Spouses Aboard</th>\n",
       "      <th>Parents/Children Aboard</th>\n",
       "      <th>Fare</th>\n",
       "    </tr>\n",
       "  </thead>\n",
       "  <tbody>\n",
       "    <tr>\n",
       "      <th>0</th>\n",
       "      <td>0</td>\n",
       "      <td>3</td>\n",
       "      <td>22.0</td>\n",
       "      <td>1</td>\n",
       "      <td>0</td>\n",
       "      <td>7.2500</td>\n",
       "    </tr>\n",
       "    <tr>\n",
       "      <th>1</th>\n",
       "      <td>1</td>\n",
       "      <td>1</td>\n",
       "      <td>38.0</td>\n",
       "      <td>1</td>\n",
       "      <td>0</td>\n",
       "      <td>71.2833</td>\n",
       "    </tr>\n",
       "    <tr>\n",
       "      <th>2</th>\n",
       "      <td>1</td>\n",
       "      <td>3</td>\n",
       "      <td>26.0</td>\n",
       "      <td>0</td>\n",
       "      <td>0</td>\n",
       "      <td>7.9250</td>\n",
       "    </tr>\n",
       "    <tr>\n",
       "      <th>3</th>\n",
       "      <td>1</td>\n",
       "      <td>1</td>\n",
       "      <td>35.0</td>\n",
       "      <td>1</td>\n",
       "      <td>0</td>\n",
       "      <td>53.1000</td>\n",
       "    </tr>\n",
       "    <tr>\n",
       "      <th>4</th>\n",
       "      <td>0</td>\n",
       "      <td>3</td>\n",
       "      <td>35.0</td>\n",
       "      <td>0</td>\n",
       "      <td>0</td>\n",
       "      <td>8.0500</td>\n",
       "    </tr>\n",
       "    <tr>\n",
       "      <th>...</th>\n",
       "      <td>...</td>\n",
       "      <td>...</td>\n",
       "      <td>...</td>\n",
       "      <td>...</td>\n",
       "      <td>...</td>\n",
       "      <td>...</td>\n",
       "    </tr>\n",
       "    <tr>\n",
       "      <th>882</th>\n",
       "      <td>0</td>\n",
       "      <td>2</td>\n",
       "      <td>27.0</td>\n",
       "      <td>0</td>\n",
       "      <td>0</td>\n",
       "      <td>13.0000</td>\n",
       "    </tr>\n",
       "    <tr>\n",
       "      <th>883</th>\n",
       "      <td>1</td>\n",
       "      <td>1</td>\n",
       "      <td>19.0</td>\n",
       "      <td>0</td>\n",
       "      <td>0</td>\n",
       "      <td>30.0000</td>\n",
       "    </tr>\n",
       "    <tr>\n",
       "      <th>884</th>\n",
       "      <td>0</td>\n",
       "      <td>3</td>\n",
       "      <td>7.0</td>\n",
       "      <td>1</td>\n",
       "      <td>2</td>\n",
       "      <td>23.4500</td>\n",
       "    </tr>\n",
       "    <tr>\n",
       "      <th>885</th>\n",
       "      <td>1</td>\n",
       "      <td>1</td>\n",
       "      <td>26.0</td>\n",
       "      <td>0</td>\n",
       "      <td>0</td>\n",
       "      <td>30.0000</td>\n",
       "    </tr>\n",
       "    <tr>\n",
       "      <th>886</th>\n",
       "      <td>0</td>\n",
       "      <td>3</td>\n",
       "      <td>32.0</td>\n",
       "      <td>0</td>\n",
       "      <td>0</td>\n",
       "      <td>7.7500</td>\n",
       "    </tr>\n",
       "  </tbody>\n",
       "</table>\n",
       "<p>887 rows × 6 columns</p>\n",
       "</div>"
      ],
      "text/plain": [
       "     Survived  Pclass   Age  Siblings/Spouses Aboard  Parents/Children Aboard  \\\n",
       "0           0       3  22.0                        1                        0   \n",
       "1           1       1  38.0                        1                        0   \n",
       "2           1       3  26.0                        0                        0   \n",
       "3           1       1  35.0                        1                        0   \n",
       "4           0       3  35.0                        0                        0   \n",
       "..        ...     ...   ...                      ...                      ...   \n",
       "882         0       2  27.0                        0                        0   \n",
       "883         1       1  19.0                        0                        0   \n",
       "884         0       3   7.0                        1                        2   \n",
       "885         1       1  26.0                        0                        0   \n",
       "886         0       3  32.0                        0                        0   \n",
       "\n",
       "        Fare  \n",
       "0     7.2500  \n",
       "1    71.2833  \n",
       "2     7.9250  \n",
       "3    53.1000  \n",
       "4     8.0500  \n",
       "..       ...  \n",
       "882  13.0000  \n",
       "883  30.0000  \n",
       "884  23.4500  \n",
       "885  30.0000  \n",
       "886   7.7500  \n",
       "\n",
       "[887 rows x 6 columns]"
      ]
     },
     "execution_count": 16,
     "metadata": {},
     "output_type": "execute_result"
    }
   ],
   "source": [
    "data.select_dtypes(exclude=[object])"
   ]
  },
  {
   "cell_type": "markdown",
   "id": "ff6e6c7d",
   "metadata": {},
   "source": [
    "Write a short summary describing what the dataset is about and what each\n",
    "column represents:"
   ]
  },
  {
   "cell_type": "markdown",
   "id": "80302029",
   "metadata": {},
   "source": [
    "#### General Description:\n",
    "This is dataset about the passanger on the last titanic trip. it inclued information about the passangers: Name, gander, age, traval class, fare, relative information between the passangers and whether get survived after the ship got sink."
   ]
  },
  {
   "cell_type": "markdown",
   "id": "ff036ebd",
   "metadata": {},
   "source": [
    "#### Dataset Dictionary:\n",
    "|Column Name|Description|Value|Missing value count|\n",
    "|:----------|:----------|:-----|:------------------|\n",
    "|Pclass |Traval Class|1: first class, 2: second class ..|0|\n",
    "|Name |Passanger fullname| String|0|\n",
    "|Sex |Gender| Male or Female|0|\n",
    "|Age |Age by year|Intger|0|\n",
    "|Siblings/Spouses Aboard  |Count of siblings or spouses on aboard|Intger|0|\n",
    "|Parents/Children Aboard  |Count of parents or children on aboard|Intger|0|\n",
    "|Fare  |Fare of trip|Float|0|\n",
    "|Survived| The passenger's condition after drowning |0: dead, 1: survived|"
   ]
  },
  {
   "cell_type": "markdown",
   "id": "3b4c0389",
   "metadata": {},
   "source": [
    "### Things out of exercise:"
   ]
  },
  {
   "cell_type": "markdown",
   "id": "8d4ca2a7",
   "metadata": {},
   "source": [
    "#### Histogram and density plots comparing the distribution of survivors and non-survivors."
   ]
  },
  {
   "cell_type": "code",
   "execution_count": 13,
   "id": "3c639bc5",
   "metadata": {},
   "outputs": [
    {
     "data": {
      "text/plain": [
       "<Axes: xlabel='Age', ylabel='Count'>"
      ]
     },
     "execution_count": 13,
     "metadata": {},
     "output_type": "execute_result"
    },
    {
     "data": {
      "image/png": "[encoded data removed]",
      "text/plain": [
       "<Figure size 640x480 with 1 Axes>"
      ]
     },
     "metadata": {},
     "output_type": "display_data"
    }
   ],
   "source": [
    "sns.histplot(data=data, x='Age', hue=\"Survived\" ,bins=30, kde=True)\n"
   ]
  },
  {
   "cell_type": "markdown",
   "id": "b8087644",
   "metadata": {},
   "source": [
    "#### A bar chart comparing the number of survivors (1) and non-survivors (0) across the three passenger classes (1st, 2nd, and 3rd)."
   ]
  },
  {
   "cell_type": "code",
   "execution_count": 15,
   "id": "ba6aa56f",
   "metadata": {},
   "outputs": [
    {
     "data": {
      "text/plain": [
       "<Axes: xlabel='Pclass', ylabel='count'>"
      ]
     },
     "execution_count": 15,
     "metadata": {},
     "output_type": "execute_result"
    },
    {
     "data": {
      "image/png": "[encoded data removed]",
      "text/plain": [
       "<Figure size 640x480 with 1 Axes>"
      ]
     },
     "metadata": {},
     "output_type": "display_data"
    }
   ],
   "source": [
    "sns.countplot(data=data, x='Pclass', hue='Survived')"
   ]
  },
  {
   "cell_type": "markdown",
   "id": "6e7843b5",
   "metadata": {},
   "source": [
    "if you see the output of describe() function it treat survived and Pclass as Quantitative variable! to solve this convert the datatype  of survived and Pclass to categorical."
   ]
  },
  {
   "cell_type": "code",
   "execution_count": 21,
   "id": "d1c0a3da",
   "metadata": {},
   "outputs": [],
   "source": [
    "data[\"Survived\"] = data[\"Survived\"].astype('category')\n",
    "data[\"Pclass\"] = data[\"Pclass\"].astype('category')"
   ]
  },
  {
   "cell_type": "code",
   "execution_count": 22,
   "id": "b03a215f",
   "metadata": {},
   "outputs": [
    {
     "data": {
      "application/vnd.microsoft.datawrangler.viewer.v0+json": {
       "columns": [
        {
         "name": "index",
         "rawType": "object",
         "type": "string"
        },
        {
         "name": "Survived",
         "rawType": "int64",
         "type": "integer"
        },
        {
         "name": "Pclass",
         "rawType": "int64",
         "type": "integer"
        },
        {
         "name": "Name",
         "rawType": "object",
         "type": "unknown"
        },
        {
         "name": "Sex",
         "rawType": "object",
         "type": "unknown"
        }
       ],
       "ref": "9409793d-3131-4bee-ab7f-62d2f1841804",
       "rows": [
        [
         "count",
         "887",
         "887",
         "887",
         "887"
        ],
        [
         "unique",
         "2",
         "3",
         "887",
         "2"
        ],
        [
         "top",
         "0",
         "3",
         "Mr. Owen Harris Braund",
         "male"
        ],
        [
         "freq",
         "545",
         "487",
         "1",
         "573"
        ]
       ],
       "shape": {
        "columns": 4,
        "rows": 4
       }
      },
      "text/html": [
       "<div>\n",
       "<style scoped>\n",
       "    .dataframe tbody tr th:only-of-type {\n",
       "        vertical-align: middle;\n",
       "    }\n",
       "\n",
       "    .dataframe tbody tr th {\n",
       "        vertical-align: top;\n",
       "    }\n",
       "\n",
       "    .dataframe thead th {\n",
       "        text-align: right;\n",
       "    }\n",
       "</style>\n",
       "<table border=\"1\" class=\"dataframe\">\n",
       "  <thead>\n",
       "    <tr style=\"text-align: right;\">\n",
       "      <th></th>\n",
       "      <th>Survived</th>\n",
       "      <th>Pclass</th>\n",
       "      <th>Name</th>\n",
       "      <th>Sex</th>\n",
       "    </tr>\n",
       "  </thead>\n",
       "  <tbody>\n",
       "    <tr>\n",
       "      <th>count</th>\n",
       "      <td>887</td>\n",
       "      <td>887</td>\n",
       "      <td>887</td>\n",
       "      <td>887</td>\n",
       "    </tr>\n",
       "    <tr>\n",
       "      <th>unique</th>\n",
       "      <td>2</td>\n",
       "      <td>3</td>\n",
       "      <td>887</td>\n",
       "      <td>2</td>\n",
       "    </tr>\n",
       "    <tr>\n",
       "      <th>top</th>\n",
       "      <td>0</td>\n",
       "      <td>3</td>\n",
       "      <td>Mr. Owen Harris Braund</td>\n",
       "      <td>male</td>\n",
       "    </tr>\n",
       "    <tr>\n",
       "      <th>freq</th>\n",
       "      <td>545</td>\n",
       "      <td>487</td>\n",
       "      <td>1</td>\n",
       "      <td>573</td>\n",
       "    </tr>\n",
       "  </tbody>\n",
       "</table>\n",
       "</div>"
      ],
      "text/plain": [
       "        Survived  Pclass                    Name   Sex\n",
       "count        887     887                     887   887\n",
       "unique         2       3                     887     2\n",
       "top            0       3  Mr. Owen Harris Braund  male\n",
       "freq         545     487                       1   573"
      ]
     },
     "execution_count": 22,
     "metadata": {},
     "output_type": "execute_result"
    }
   ],
   "source": [
    "data.describe(include=[\"category\", \"object\"])"
   ]
  }
 ],
 "metadata": {
  "kernelspec": {
   "display_name": "ML_TP",
   "language": "python",
   "name": "python3"
  },
  "language_info": {
   "codemirror_mode": {
    "name": "ipython",
    "version": 3
   },
   "file_extension": ".py",
   "mimetype": "text/x-python",
   "name": "python",
   "nbconvert_exporter": "python",
   "pygments_lexer": "ipython3",
   "version": "3.12.0"
  }
 },
 "nbformat": 4,
 "nbformat_minor": 5
}
